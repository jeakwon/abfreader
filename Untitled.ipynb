{
 "cells": [
  {
   "cell_type": "code",
   "execution_count": 119,
   "metadata": {
    "collapsed": true
   },
   "outputs": [],
   "source": [
    "import os\n",
    "import sys\n",
    "import numpy as np\n",
    "import matplotlib.pyplot as plt\n",
    "import pyabf\n",
    "import scipy\n",
    "import datetime"
   ]
  },
  {
   "cell_type": "code",
   "execution_count": 62,
   "metadata": {
    "collapsed": true
   },
   "outputs": [],
   "source": [
    "%matplotlib inline\n",
    "plt.style.use('seaborn')\n",
    "np.set_printoptions(precision=3)"
   ]
  },
  {
   "cell_type": "code",
   "execution_count": 63,
   "metadata": {},
   "outputs": [],
   "source": [
    "def butter_highpass(cutoff, fs, order=5):\n",
    "    nyq = 0.5 * fs\n",
    "    normal_cutoff = cutoff / nyq\n",
    "    b, a = signal.butter(order, normal_cutoff, btype='high', analog=False)\n",
    "    return b, a\n",
    "\n",
    "def butter_highpass_filter(data, cutoff, fs, order=5):\n",
    "    b, a = butter_highpass(cutoff, fs, order=order)\n",
    "    y = signal.filtfilt(b, a, data)\n",
    "    return y"
   ]
  },
  {
   "cell_type": "code",
   "execution_count": 177,
   "metadata": {},
   "outputs": [
    {
     "name": "stdout",
     "output_type": "stream",
     "text": [
      "\n",
      "### Header ###\n",
      "fFileSignature = b'ABF2'\n",
      "fFileVersionNumber = (0, 0, 0, 2)\n",
      "uFileInfoSize = 512\n",
      "lActualEpisodes = 0\n",
      "uFileStartDate = 20170126\n",
      "uFileStartTimeMS = 72262048\n",
      "uStopwatchTime = 18535\n",
      "nFileType = 1\n",
      "nDataFormat = 0\n",
      "nSimultaneousScan = 1\n",
      "nCRCEnable = 0\n",
      "uFileCRC = 0\n",
      "FileGUID = 3573890508\n",
      "unknown1 = 1232975052\n",
      "unknown2 = 1254567087\n",
      "unknown3 = 2273295679\n",
      "uCreatorVersion = 167969281\n",
      "uCreatorNameIndex = 1\n",
      "uModifierVersion = 0\n",
      "uModifierNameIndex = 0\n",
      "uProtocolPathIndex = 2\n",
      "\n",
      "### Section Map ###\n",
      "ProtocolSection = (1, 512, 1)\n",
      "ADCSection = (2, 128, 16)\n",
      "DACSection = (6, 256, 4)\n",
      "EpochSection = (0, 0, 0)\n",
      "ADCPerDACSection = (0, 0, 0)\n",
      "EpochPerDACSection = (0, 0, 0)\n",
      "UserListSection = (0, 0, 0)\n",
      "StatsRegionSection = (8, 128, 1)\n",
      "MathSection = (0, 0, 0)\n",
      "StringsSection = (9, 272, 42)\n",
      "DataSection = (12, 2, 27648000)\n",
      "TagSection = (0, 0, 0)\n",
      "ScopeSection = (7, 769, 1)\n",
      "DeltaSection = (0, 0, 0)\n",
      "VoiceTagSection = (0, 0, 0)\n",
      "SynchArraySection = (0, 0, 0)\n",
      "AnnotationSection = (0, 0, 0)\n",
      "StatsSection = (0, 0, 0)\n",
      "\n",
      "### ProtocolSection ###\n",
      "nOperationMode = 3\n",
      "fADCSequenceInterval = 50000.0\n",
      "bEnableFileCompression = 0\n",
      "sUnused = b'\\x00\\x00\\x00'\n",
      "uFileCompressionRatio = 1\n",
      "fSynchTimeUnit = 0.0\n",
      "fSecondsPerRun = 86400.0\n",
      "lNumSamplesPerEpisode = 192\n",
      "lPreTriggerSamples = 0\n",
      "lEpisodesPerRun = 1\n",
      "lRunsPerTrial = 1\n",
      "lNumberOfTrials = 1\n",
      "nAveragingMode = 0\n",
      "nUndoRunCount = 0\n",
      "nFirstEpisodeInRun = 0\n",
      "fTriggerThreshold = 0.0\n",
      "nTriggerSource = -3\n",
      "nTriggerAction = 0\n",
      "nTriggerPolarity = 0\n",
      "fScopeOutputInterval = 0.0\n",
      "fEpisodeStartToStart = 0.0\n",
      "fRunStartToStart = 0.0\n",
      "lAverageCount = 1\n",
      "fTrialStartToStart = 0.0\n",
      "nAutoTriggerStrategy = 1\n",
      "fFirstRunDelayS = 0.0\n",
      "nChannelStatsStrategy = 0\n",
      "lSamplesPerTrace = 39104\n",
      "lStartDisplayNum = 0\n",
      "lFinishDisplayNum = 0\n",
      "nShowPNRawData = 0\n",
      "fStatisticsPeriod = 1.0\n",
      "lStatisticsMeasurements = 5\n",
      "nStatisticsSaveStrategy = 0\n",
      "fADCRange = 10.0\n",
      "fDACRange = 10.0\n",
      "lADCResolution = 32768\n",
      "lDACResolution = 32768\n",
      "nExperimentType = 2\n",
      "nManualInfoStrategy = 0\n",
      "nCommentsEnable = 0\n",
      "lFileCommentIndex = 0\n",
      "nAutoAnalyseEnable = 1\n",
      "nSignalType = 0\n",
      "nDigitalEnable = 0\n",
      "nActiveDACChannel = 0\n",
      "nDigitalHolding = 0\n",
      "nDigitalInterEpisode = 0\n",
      "nDigitalDACChannel = 0\n",
      "nDigitalTrainActiveLogic = 1\n",
      "nStatsEnable = 0\n",
      "nStatisticsClearStrategy = 0\n",
      "nLevelHysteresis = 64\n",
      "lTimeHysteresis = 0\n",
      "nAllowExternalTags = 0\n",
      "nAverageAlgorithm = 0\n",
      "fAverageWeighting = 0.10000000149011612\n",
      "nUndoPromptStrategy = 0\n",
      "nTrialTriggerSource = -1\n",
      "nStatisticsDisplayStrategy = 0\n",
      "nExternalTagType = 2\n",
      "nScopeTriggerOut = 0\n",
      "nLTPType = 0\n",
      "nAlternateDACOutputState = 0\n",
      "nAlternateDigitalOutputState = 0\n",
      "fCellID = (0.0, 0.0, 0.0)\n",
      "nDigitizerADCs = 16\n",
      "nDigitizerDACs = 4\n",
      "nDigitizerTotalDigitalOuts = 16\n",
      "nDigitizerSynchDigitalOuts = 8\n",
      "nDigitizerType = 6\n",
      "\n",
      "### ADCSection ###\n",
      "nADCNum = [0, 1, 2, 3, 4, 5, 6, 7, 8, 9, 10, 11, 12, 13, 14, 15]\n",
      "nTelegraphEnable = [0, 0, 0, 0, 0, 0, 0, 0, 0, 0, 0, 0, 0, 0, 0, 0]\n",
      "nTelegraphInstrument = [0, 0, 0, 0, 0, 0, 0, 0, 0, 0, 0, 0, 0, 0, 0, 0]\n",
      "fTelegraphAdditGain = [1.0, 1.0, 1.0, 1.0, 1.0, 1.0, 1.0, 1.0, 1.0, 1.0, 1.0, 1.0, 1.0, 1.0, 1.0, 1.0]\n",
      "fTelegraphFilter = [0.0, 0.0, 0.0, 0.0, 0.0, 0.0, 0.0, 0.0, 0.0, 0.0, 0.0, 0.0, 0.0, 0.0, 0.0, 0.0]\n",
      "fTelegraphMembraneCap = [0.0, 0.0, 0.0, 0.0, 0.0, 0.0, 0.0, 0.0, 0.0, 0.0, 0.0, 0.0, 0.0, 0.0, 0.0, 0.0]\n",
      "nTelegraphMode = [0, 0, 0, 0, 0, 0, 0, 0, 0, 0, 0, 0, 0, 0, 0, 0]\n",
      "fTelegraphAccessResistance = [0.0, 0.0, 0.0, 0.0, 0.0, 0.0, 0.0, 0.0, 0.0, 0.0, 0.0, 0.0, 0.0, 0.0, 0.0, 0.0]\n",
      "nADCPtoLChannelMap = [0, 1, 2, 3, 4, 5, 6, 7, 8, 9, 10, 11, 12, 13, 14, 15]\n",
      "nADCSamplingSeq = [0, 0, 0, 0, 0, 0, 0, 0, 0, 0, 0, 0, 0, 0, 0, 0]\n",
      "fADCProgrammableGain = [1.0, 1.0, 1.0, 1.0, 1.0, 1.0, 1.0, 1.0, 1.0, 1.0, 1.0, 1.0, 1.0, 1.0, 1.0, 1.0]\n",
      "fADCDisplayAmplification = [74.07294464111328, 1.0, 1.0, 1.0, 1.0, 1.0, 1.0, 1.0, 1.0, 1.0, 1.0, 1.0, 1.0, 1.0, 1.0, 1.0]\n",
      "fADCDisplayOffset = [0.034999996423721313, 0.0, 0.0, 0.0, 0.0, 0.0, 0.0, 0.0, 0.0, 0.0, 0.0, 0.0, 0.0, 0.0, 0.0, 0.0]\n",
      "fInstrumentScaleFactor = [1.0, 1.0, 1.0, 1.0, 1.0, 1.0, 1.0, 1.0, 1.0, 1.0, 1.0, 1.0, 1.0, 1.0, 1.0, 1.0]\n",
      "fInstrumentOffset = [0.0, 0.0, 0.0, 0.0, 0.0, 0.0, 0.0, 0.0, 0.0, 0.0, 0.0, 0.0, 0.0, 0.0, 0.0, 0.0]\n",
      "fSignalGain = [1.0, 1.0, 1.0, 1.0, 1.0, 1.0, 1.0, 1.0, 1.0, 1.0, 1.0, 1.0, 1.0, 1.0, 1.0, 1.0]\n",
      "fSignalOffset = [0.0, 0.0, 0.0, 0.0, 0.0, 0.0, 0.0, 0.0, 0.0, 0.0, 0.0, 0.0, 0.0, 0.0, 0.0, 0.0]\n",
      "fSignalLowpassFilter = [10.0, 5000.0, 5000.0, 5000.0, 5000.0, 5000.0, 5000.0, 5000.0, 5000.0, 5000.0, 5000.0, 10.0, 5000.0, 5000.0, 5000.0, 5000.0]\n",
      "fSignalHighpassFilter = [3.0, 1.0, 1.0, 1.0, 1.0, 1.0, 1.0, 1.0, 1.0, 1.0, 1.0, 1.0, 1.0, 1.0, 1.0, 1.0]\n",
      "nLowpassFilterType = [2, 0, 0, 0, 0, 0, 0, 0, 0, 0, 0, 2, 0, 0, 0, 0]\n",
      "nHighpassFilterType = [0, 0, 0, 0, 0, 0, 0, 0, 0, 0, 0, 0, 0, 0, 0, 0]\n",
      "fPostProcessLowpassFilter = [100000.0, 100000.0, 100000.0, 100000.0, 100000.0, 100000.0, 100000.0, 100000.0, 100000.0, 100000.0, 100000.0, 100000.0, 100000.0, 100000.0, 100000.0, 100000.0]\n",
      "nPostProcessLowpassFilterType = [b'\\x00', b'\\x00', b'\\x00', b'\\x00', b'\\x00', b'\\x00', b'\\x00', b'\\x00', b'\\x00', b'\\x00', b'\\x00', b'\\x00', b'\\x00', b'\\x00', b'\\x00', b'\\x00']\n",
      "bEnabledDuringPN = [0, 0, 0, 0, 0, 0, 0, 0, 0, 0, 0, 0, 0, 0, 0, 0]\n",
      "nStatsChannelPolarity = [0, 0, 0, 0, 0, 0, 0, 0, 0, 0, 0, 0, 0, 0, 0, 0]\n",
      "lADCChannelNameIndex = [3, 5, 7, 9, 11, 13, 15, 17, 19, 21, 23, 25, 27, 29, 31, 33]\n",
      "lADCUnitsIndex = [4, 6, 8, 10, 12, 14, 16, 18, 20, 22, 24, 26, 28, 30, 32, 34]\n",
      "\n",
      "### DACSection ###\n",
      "nDACNum = [0, 1, 2, 3]\n",
      "nTelegraphDACScaleFactorEnable = [0, 0, 0, 0]\n",
      "fInstrumentHoldingLevel = [0.0, 0.0, 0.0, 0.0]\n",
      "fDACScaleFactor = [20.0, 20.0, 20.0, 20.0]\n",
      "fDACHoldingLevel = [0.0, 0.0, 0.0, 0.0]\n",
      "fDACCalibrationFactor = [1.0009512901306152, 1.001062273979187, 1.0010067224502563, 1.0010067224502563]\n",
      "fDACCalibrationOffset = [5.0, -1.0, 0.0, -4.0]\n",
      "lDACChannelNameIndex = [35, 37, 39, 41]\n",
      "lDACChannelUnitsIndex = [36, 38, 40, 42]\n",
      "lDACFilePtr = [0, 0, 0, 0]\n",
      "lDACFileNumEpisodes = [0, 0, 0, 0]\n",
      "nWaveformEnable = [1, 0, 0, 0]\n",
      "nWaveformSource = [1, 1, 1, 1]\n",
      "nInterEpisodeLevel = [0, 0, 0, 0]\n",
      "fDACFileScale = [1.0, 1.0, 1.0, 1.0]\n",
      "fDACFileOffset = [0.0, 0.0, 0.0, 0.0]\n",
      "lDACFileEpisodeNum = [0, 0, 0, 0]\n",
      "nDACFileADCNum = [0, 0, 0, 0]\n",
      "nConditEnable = [0, 0, 0, 0]\n",
      "lConditNumPulses = [0, 0, 0, 0]\n",
      "fBaselineDuration = [1.0, 1.0, 1.0, 1.0]\n",
      "fBaselineLevel = [0.0, 0.0, 0.0, 0.0]\n",
      "fStepDuration = [1.0, 1.0, 1.0, 1.0]\n",
      "fStepLevel = [0.0, 0.0, 0.0, 0.0]\n",
      "fPostTrainPeriod = [10.0, 10.0, 10.0, 10.0]\n",
      "fPostTrainLevel = [0.0, 0.0, 0.0, 0.0]\n",
      "nMembTestEnable = [0, 0, 0, 0]\n",
      "nLeakSubtractType = [0, 0, 0, 0]\n",
      "nPNPolarity = [1, 1, 1, 1]\n",
      "fPNHoldingLevel = [0.0, 0.0, 0.0, 0.0]\n",
      "nPNNumADCChannels = [0, 0, 0, 0]\n",
      "nPNPosition = [0, 0, 0, 0]\n",
      "nPNNumPulses = [4, 4, 4, 4]\n",
      "fPNSettlingTime = [100.0, 100.0, 100.0, 100.0]\n",
      "fPNInterpulse = [0.0, 0.0, 0.0, 0.0]\n",
      "nLTPUsageOfDAC = [0, 0, 0, 0]\n",
      "nLTPPresynapticPulses = [0, 0, 0, 0]\n",
      "lDACFilePathIndex = [0, 0, 0, 0]\n",
      "fMembTestPreSettlingTimeMS = [100.0, 100.0, 100.0, 100.0]\n",
      "fMembTestPostSettlingTimeMS = [100.0, 100.0, 100.0, 100.0]\n",
      "nLeakSubtractADCIndex = [0, 0, 0, 0]\n",
      "\n",
      "### EpochPerDACSection ###\n",
      "\n",
      "### EpochSection ###\n",
      "\n",
      "### TagSection ###\n",
      "\n",
      "### Extras ###\n",
      "abfFilename = C:\\Users\\onlyt\\Desktop\\Workspace\\abfread\\data (1).abf\n",
      "abfID = data (1)\n",
      "abfDatetime = 2017-01-26 20:05:22.048000\n",
      "dataByteStart = 6144\n",
      "dataPointCount = 27648000\n",
      "dataChannels = 16\n",
      "timeSecPerPoint = 0.05\n",
      "timePointPerSec = 20.0\n",
      "rate = 20.0\n",
      "sweepCount = 0\n",
      "sweepPointCount = 1728000\n",
      "sweepLengthSec = 86400.0\n",
      "gain = [1.0, 1.0, 1.0, 1.0, 1.0, 1.0, 1.0, 1.0, 1.0, 1.0, 1.0, 1.0, 1.0, 1.0, 1.0, 1.0]\n",
      "mode = IC\n",
      "units = mV\n",
      "unitsCommand = pA\n",
      "commandHoldingByDAC = [0.0, 0.0, 0.0, 0.0]\n",
      "protocolPath = C:\\Users\\neurolab\\Documents\\Molecular Devices\\pCLAMP\\Params\\1.pro\n",
      "protocol = 1.pro\n",
      "dataScale = 0.00030517578125\n",
      "\n"
     ]
    }
   ],
   "source": [
    "# abf file 열기\n",
    "abf=pyabf.ABF(\"data (1).abf\")\n",
    "\n",
    "# abf file data 확인\n",
    "abfHeader=pyabf.header.ABFheader(\"data (1).abf\")\n",
    "abfHeader.show()"
   ]
  },
  {
   "cell_type": "code",
   "execution_count": 188,
   "metadata": {},
   "outputs": [
    {
     "data": {
      "text/plain": [
       "datetime.timedelta(0, 0, 98000)"
      ]
     },
     "execution_count": 188,
     "metadata": {},
     "output_type": "execute_result"
    }
   ],
   "source": [
    "Ts=abfHeader.header['abfDatetime']\n",
    "datetime.timedelta(microseconds=Ts.microsecond)+datetime.timedelta(seconds=0.05)"
   ]
  },
  {
   "cell_type": "code",
   "execution_count": 175,
   "metadata": {},
   "outputs": [],
   "source": [
    "abf.setSweep(0, channel=0)\n",
    "abf_HPF=butter_highpass_filter(abf.dataY,1,abf.pointsPerSec)\n",
    "abf_ABS=abs(abf_HPF)"
   ]
  },
  {
   "cell_type": "code",
   "execution_count": 172,
   "metadata": {},
   "outputs": [
    {
     "data": {
      "text/plain": [
       "[<matplotlib.lines.Line2D at 0x2537739a9b0>]"
      ]
     },
     "execution_count": 172,
     "metadata": {},
     "output_type": "execute_result"
    },
    {
     "data": {
      "image/png": "[encoded data removed]",
      "text/plain": [
       "<matplotlib.figure.Figure at 0x253860ae940>"
      ]
     },
     "metadata": {},
     "output_type": "display_data"
    }
   ],
   "source": [
    "plt.plot(abf.dataX,abf.dataY,label=\"Channel 0\")"
   ]
  },
  {
   "cell_type": "code",
   "execution_count": 173,
   "metadata": {
    "scrolled": false
   },
   "outputs": [
    {
     "data": {
      "text/plain": [
       "[<matplotlib.lines.Line2D at 0x253773fc1d0>]"
      ]
     },
     "execution_count": 173,
     "metadata": {},
     "output_type": "execute_result"
    },
    {
     "data": {
      "image/png": "[encoded data removed]",
      "text/plain": [
       "<matplotlib.figure.Figure at 0x25377375588>"
      ]
     },
     "metadata": {},
     "output_type": "display_data"
    }
   ],
   "source": [
    "plt.plot(abf.dataX,abf_HPF,label=\"Channel 0\")"
   ]
  },
  {
   "cell_type": "code",
   "execution_count": 176,
   "metadata": {},
   "outputs": [
    {
     "data": {
      "text/plain": [
       "[<matplotlib.lines.Line2D at 0x253648a1c50>]"
      ]
     },
     "execution_count": 176,
     "metadata": {},
     "output_type": "execute_result"
    },
    {
     "data": {
      "image/png": "[encoded data removed]",
      "text/plain": [
       "<matplotlib.figure.Figure at 0x2537739af98>"
      ]
     },
     "metadata": {},
     "output_type": "display_data"
    }
   ],
   "source": [
    "plt.plot(abf.dataX,abf_ABS,label=\"Channel 0\")"
   ]
  }
 ],
 "metadata": {
  "kernelspec": {
   "display_name": "Python 3",
   "language": "python",
   "name": "python3"
  },
  "language_info": {
   "codemirror_mode": {
    "name": "ipython",
    "version": 3
   },
   "file_extension": ".py",
   "mimetype": "text/x-python",
   "name": "python",
   "nbconvert_exporter": "python",
   "pygments_lexer": "ipython3",
   "version": "3.6.3"
  }
 },
 "nbformat": 4,
 "nbformat_minor": 2
}
