{
 "cells": [
  {
   "cell_type": "code",
   "execution_count": 15,
   "metadata": {
    "collapsed": true
   },
   "outputs": [],
   "source": [
    "import numpy as np\n",
    "import pandas as pd\n",
    "from scipy.signal import decimate\n",
    "import matplotlib.pyplot as plt\n",
    "import matplotlib.gridspec as gridspec\n",
    "import pyabf\n",
    "import seaborn as sns\n",
    "sns.set(color_codes=True)\n",
    "%matplotlib inline\n",
    "plt.style.use('seaborn')\n",
    "np.set_printoptions(precision=8)"
   ]
  },
  {
   "cell_type": "code",
   "execution_count": 16,
   "metadata": {},
   "outputs": [
    {
     "name": "stdout",
     "output_type": "stream",
     "text": [
      "\n",
      "### Header ###\n",
      "fFileSignature = b'ABF2'\n",
      "fFileVersionNumber = (0, 0, 0, 2)\n",
      "uFileInfoSize = 512\n",
      "lActualEpisodes = 0\n",
      "uFileStartDate = 20171222\n",
      "uFileStartTimeMS = 61222518\n",
      "uStopwatchTime = 16169\n",
      "nFileType = 1\n",
      "nDataFormat = 0\n",
      "nSimultaneousScan = 0\n",
      "nCRCEnable = 0\n",
      "uFileCRC = 0\n",
      "FileGUID = 2945812827\n",
      "unknown1 = 1341797857\n",
      "unknown2 = 3886145709\n",
      "unknown3 = 3151197052\n",
      "uCreatorVersion = 167903244\n",
      "uCreatorNameIndex = 1\n",
      "uModifierVersion = 0\n",
      "uModifierNameIndex = 0\n",
      "uProtocolPathIndex = 2\n",
      "\n",
      "### Section Map ###\n",
      "ProtocolSection = (1, 512, 1)\n",
      "ADCSection = (2, 128, 1)\n",
      "DACSection = (3, 256, 4)\n",
      "EpochSection = (0, 0, 0)\n",
      "ADCPerDACSection = (0, 0, 0)\n",
      "EpochPerDACSection = (0, 0, 0)\n",
      "UserListSection = (0, 0, 0)\n",
      "StatsRegionSection = (5, 128, 1)\n",
      "MathSection = (0, 0, 0)\n",
      "StringsSection = (6, 150, 12)\n",
      "DataSection = (9, 2, 11734500)\n",
      "TagSection = (0, 0, 0)\n",
      "ScopeSection = (7, 769, 1)\n",
      "DeltaSection = (0, 0, 0)\n",
      "VoiceTagSection = (0, 0, 0)\n",
      "SynchArraySection = (0, 0, 0)\n",
      "AnnotationSection = (0, 0, 0)\n",
      "StatsSection = (0, 0, 0)\n",
      "\n",
      "### ProtocolSection ###\n",
      "nOperationMode = 3\n",
      "fADCSequenceInterval = 100.0\n",
      "bEnableFileCompression = 0\n",
      "sUnused = b'\\x00\\x00\\x00'\n",
      "uFileCompressionRatio = 1\n",
      "fSynchTimeUnit = 0.0\n",
      "fSecondsPerRun = 0.0\n",
      "lNumSamplesPerEpisode = 100000\n",
      "lPreTriggerSamples = 8\n",
      "lEpisodesPerRun = 1\n",
      "lRunsPerTrial = 1\n",
      "lNumberOfTrials = 1\n",
      "nAveragingMode = 0\n",
      "nUndoRunCount = 0\n",
      "nFirstEpisodeInRun = 0\n",
      "fTriggerThreshold = 0.0\n",
      "nTriggerSource = -3\n",
      "nTriggerAction = 0\n",
      "nTriggerPolarity = 0\n",
      "fScopeOutputInterval = 0.0\n",
      "fEpisodeStartToStart = 20.0\n",
      "fRunStartToStart = 0.0\n",
      "lAverageCount = 1\n",
      "fTrialStartToStart = 0.0\n",
      "nAutoTriggerStrategy = 1\n",
      "fFirstRunDelayS = 0.0\n",
      "nChannelStatsStrategy = 0\n",
      "lSamplesPerTrace = 601600\n",
      "lStartDisplayNum = 0\n",
      "lFinishDisplayNum = 100000\n",
      "nShowPNRawData = 0\n",
      "fStatisticsPeriod = 1.0\n",
      "lStatisticsMeasurements = 5\n",
      "nStatisticsSaveStrategy = 0\n",
      "fADCRange = 10.0\n",
      "fDACRange = 10.0\n",
      "lADCResolution = 32768\n",
      "lDACResolution = 32768\n",
      "nExperimentType = 2\n",
      "nManualInfoStrategy = 0\n",
      "nCommentsEnable = 0\n",
      "lFileCommentIndex = 0\n",
      "nAutoAnalyseEnable = 1\n",
      "nSignalType = 0\n",
      "nDigitalEnable = 1\n",
      "nActiveDACChannel = 0\n",
      "nDigitalHolding = 0\n",
      "nDigitalInterEpisode = 0\n",
      "nDigitalDACChannel = 0\n",
      "nDigitalTrainActiveLogic = 1\n",
      "nStatsEnable = 0\n",
      "nStatisticsClearStrategy = 0\n",
      "nLevelHysteresis = 64\n",
      "lTimeHysteresis = 1\n",
      "nAllowExternalTags = 0\n",
      "nAverageAlgorithm = 0\n",
      "fAverageWeighting = 0.10000000149011612\n",
      "nUndoPromptStrategy = 0\n",
      "nTrialTriggerSource = -1\n",
      "nStatisticsDisplayStrategy = 0\n",
      "nExternalTagType = 2\n",
      "nScopeTriggerOut = 0\n",
      "nLTPType = 2\n",
      "nAlternateDACOutputState = 0\n",
      "nAlternateDigitalOutputState = 0\n",
      "fCellID = (0.0, 0.0, 0.0)\n",
      "nDigitizerADCs = 16\n",
      "nDigitizerDACs = 2\n",
      "nDigitizerTotalDigitalOuts = 16\n",
      "nDigitizerSynchDigitalOuts = 8\n",
      "nDigitizerType = 3\n",
      "\n",
      "### ADCSection ###\n",
      "nADCNum = 0\n",
      "nTelegraphEnable = 1\n",
      "nTelegraphInstrument = 24\n",
      "fTelegraphAdditGain = 2.0\n",
      "fTelegraphFilter = 2000.0\n",
      "fTelegraphMembraneCap = 0.0\n",
      "nTelegraphMode = 0\n",
      "fTelegraphAccessResistance = 0.0\n",
      "nADCPtoLChannelMap = 0\n",
      "nADCSamplingSeq = 0\n",
      "fADCProgrammableGain = 1.0\n",
      "fADCDisplayAmplification = 12.886399269104004\n",
      "fADCDisplayOffset = 70.0\n",
      "fInstrumentScaleFactor = 0.0005000000237487257\n",
      "fInstrumentOffset = 0.0\n",
      "fSignalGain = 1.0\n",
      "fSignalOffset = 0.0\n",
      "fSignalLowpassFilter = 500.0\n",
      "fSignalHighpassFilter = 1.0\n",
      "nLowpassFilterType = 2\n",
      "nHighpassFilterType = 0\n",
      "fPostProcessLowpassFilter = 100000.0\n",
      "nPostProcessLowpassFilterType = b'\\x00'\n",
      "bEnabledDuringPN = 0\n",
      "nStatsChannelPolarity = 0\n",
      "lADCChannelNameIndex = 3\n",
      "lADCUnitsIndex = 4\n",
      "\n",
      "### DACSection ###\n",
      "nDACNum = [0, 1, 2, 3]\n",
      "nTelegraphDACScaleFactorEnable = [1, 0, 0, 0]\n",
      "fInstrumentHoldingLevel = [0.0, 0.0, 0.0, 0.0]\n",
      "fDACScaleFactor = [20.0, 20.0, 20.0, 20.0]\n",
      "fDACHoldingLevel = [0.0, 0.0, 0.0, 0.0]\n",
      "fDACCalibrationFactor = [1.0848400592803955, 1.088320016860962, 1.0, 1.0]\n",
      "fDACCalibrationOffset = [-189.0, -273.0, 0.0, 0.0]\n",
      "lDACChannelNameIndex = [5, 7, 9, 11]\n",
      "lDACChannelUnitsIndex = [6, 8, 10, 12]\n",
      "lDACFilePtr = [0, 0, 0, 0]\n",
      "lDACFileNumEpisodes = [0, 0, 0, 0]\n",
      "nWaveformEnable = [0, 0, 0, 0]\n",
      "nWaveformSource = [1, 1, 0, 0]\n",
      "nInterEpisodeLevel = [1, 1, 0, 0]\n",
      "fDACFileScale = [1.0, 1.0, 1.0, 1.0]\n",
      "fDACFileOffset = [0.0, 0.0, 0.0, 0.0]\n",
      "lDACFileEpisodeNum = [0, 0, 0, 0]\n",
      "nDACFileADCNum = [0, 0, 0, 0]\n",
      "nConditEnable = [0, 0, 0, 0]\n",
      "lConditNumPulses = [1, 0, 0, 0]\n",
      "fBaselineDuration = [1.0, 1.0, 0.0, 0.0]\n",
      "fBaselineLevel = [0.0, 0.0, 0.0, 0.0]\n",
      "fStepDuration = [1.0, 1.0, 0.0, 0.0]\n",
      "fStepLevel = [0.0, 0.0, 0.0, 0.0]\n",
      "fPostTrainPeriod = [10.0, 10.0, 10.0, 10.0]\n",
      "fPostTrainLevel = [0.0, 0.0, 0.0, 0.0]\n",
      "nMembTestEnable = [0, 0, 0, 0]\n",
      "nLeakSubtractType = [0, 0, 0, 0]\n",
      "nPNPolarity = [1, 1, 1, 1]\n",
      "fPNHoldingLevel = [0.0, 0.0, 0.0, 0.0]\n",
      "nPNNumADCChannels = [0, 0, 0, 0]\n",
      "nPNPosition = [0, 0, 0, 0]\n",
      "nPNNumPulses = [2, 2, 2, 2]\n",
      "fPNSettlingTime = [10.0, 10.0, 10.0, 10.0]\n",
      "fPNInterpulse = [0.0, 0.0, 0.0, 0.0]\n",
      "nLTPUsageOfDAC = [2, 1, 0, 0]\n",
      "nLTPPresynapticPulses = [1, 1, 0, 0]\n",
      "lDACFilePathIndex = [0, 0, 0, 0]\n",
      "fMembTestPreSettlingTimeMS = [100.0, 100.0, 100.0, 100.0]\n",
      "fMembTestPostSettlingTimeMS = [100.0, 100.0, 100.0, 100.0]\n",
      "nLeakSubtractADCIndex = [0, 0, 0, 0]\n",
      "\n",
      "### EpochPerDACSection ###\n",
      "\n",
      "### EpochSection ###\n",
      "\n",
      "### TagSection ###\n",
      "\n",
      "### Extras ###\n",
      "abfFilename = C:\\Users\\onlyt\\Desktop\\Workspace\\abfread\\17d22009.abf\n",
      "abfID = 17d22009\n",
      "abfDatetime = 2017-01-22 17:12:22.518000\n",
      "dataByteStart = 4608\n",
      "dataPointCount = 11734500\n",
      "dataChannels = 1\n",
      "timeSecPerPoint = 0.0001\n",
      "timePointPerSec = 10000.0\n",
      "rate = 10000.0\n",
      "sweepCount = 0\n",
      "sweepPointCount = 11734500\n",
      "sweepLengthSec = 1173.45\n",
      "gain = 2.0\n",
      "mode = VC\n",
      "units = pA\n",
      "unitsCommand = mV\n",
      "commandHoldingByDAC = [0.0, 0.0, 0.0, 0.0]\n",
      "protocolPath = C:\\Users\\glia\\Desktop\\Personal\\heeoyung\\gap free.pro\n",
      "protocol = gap free.pro\n",
      "dataScale = 0.30517576675492886\n",
      "\n"
     ]
    }
   ],
   "source": [
    "FILENAME = '17d22009'+'.abf'\n",
    "\n",
    "# abf file 열기\n",
    "abf=pyabf.ABF(FILENAME)\n",
    "\n",
    "# abf file data 확인\n",
    "abfHeader=pyabf.header.ABFheader(FILENAME)\n",
    "abfHeader.show()\n",
    "# plt.plot(abf.dataX,abf.dataY)\n"
   ]
  },
  {
   "cell_type": "code",
   "execution_count": 17,
   "metadata": {},
   "outputs": [
    {
     "data": {
      "text/plain": [
       "[<matplotlib.lines.Line2D at 0x1f782d360b8>]"
      ]
     },
     "execution_count": 17,
     "metadata": {},
     "output_type": "execute_result"
    },
    {
     "data": {
      "image/png": "[encoded data removed]",
      "text/plain": [
       "<matplotlib.figure.Figure at 0x1f7b9f72dd8>"
      ]
     },
     "metadata": {},
     "output_type": "display_data"
    }
   ],
   "source": [
    "plot_start=1173450*6\n",
    "plot_end=11734500\n",
    "plt.plot(abf.dataX[plot_start:plot_end],abf.dataY[plot_start:plot_end])"
   ]
  },
  {
   "cell_type": "code",
   "execution_count": 18,
   "metadata": {},
   "outputs": [
    {
     "data": {
      "text/plain": [
       "array([  704.07000732,   704.07006836,   704.07019043, ...,  1173.44970703,\n",
       "        1173.4498291 ,  1173.4498291 ], dtype=float32)"
      ]
     },
     "execution_count": 18,
     "metadata": {},
     "output_type": "execute_result"
    }
   ],
   "source": [
    "abf.dataX[plot_start:plot_end]"
   ]
  },
  {
   "cell_type": "code",
   "execution_count": 32,
   "metadata": {},
   "outputs": [
    {
     "data": {
      "text/plain": [
       "array([ 704.07000732,  704.07006836,  704.07019043,  704.0703125 ,\n",
       "        704.07037354,  704.07049561,  704.07055664,  704.07067871,\n",
       "        704.07080078,  704.07086182,  704.07098389,  704.07110596,\n",
       "        704.07116699,  704.07128906,  704.07141113,  704.07147217,\n",
       "        704.07159424,  704.07165527,  704.07177734,  704.07189941,\n",
       "        704.07196045,  704.07208252,  704.07220459,  704.07226562,\n",
       "        704.0723877 ,  704.07250977,  704.0725708 ,  704.07269287,\n",
       "        704.07275391,  704.07287598,  704.07299805,  704.07305908,\n",
       "        704.07318115,  704.07330322,  704.07336426,  704.07348633,\n",
       "        704.0736084 ,  704.07366943,  704.0737915 ,  704.07385254,\n",
       "        704.07397461,  704.07409668,  704.07415771,  704.07427979,\n",
       "        704.07440186,  704.07446289,  704.07458496,  704.07470703,\n",
       "        704.07476807,  704.07489014], dtype=float32)"
      ]
     },
     "execution_count": 32,
     "metadata": {},
     "output_type": "execute_result"
    }
   ],
   "source": [
    "abf.dataX[plot_start:plot_end][:50]"
   ]
  },
  {
   "cell_type": "code",
   "execution_count": 40,
   "metadata": {
    "scrolled": true
   },
   "outputs": [
    {
     "data": {
      "text/plain": [
       "array([ 0.06103516,  0.12207031,  0.12207031,  0.06103516,  0.12207031,\n",
       "        0.06103516,  0.12207031,  0.12207031,  0.06103516,  0.12207031,\n",
       "        0.12207031,  0.06103516,  0.12207031,  0.12207031,  0.06103516,\n",
       "        0.12207031,  0.06103516,  0.12207031,  0.12207031,  0.06103516,\n",
       "        0.12207031,  0.12207031,  0.06103516,  0.12207031,  0.12207031,\n",
       "        0.06103516,  0.12207031,  0.06103516,  0.12207031,  0.12207031,\n",
       "        0.06103516,  0.12207031,  0.12207031,  0.06103516,  0.12207031,\n",
       "        0.12207031,  0.06103516,  0.12207031,  0.06103516,  0.12207031,\n",
       "        0.12207031,  0.06103516,  0.12207031,  0.12207031,  0.06103516,\n",
       "        0.12207031,  0.12207031,  0.06103516,  0.12207031,  0.12207031])"
      ]
     },
     "execution_count": 40,
     "metadata": {},
     "output_type": "execute_result"
    }
   ],
   "source": [
    "a=[]\n",
    "for i in range(50):\n",
    "    a+=[(abf.dataX[plot_start:plot_end][i+1]-abf.dataX[plot_start:plot_end][i])*1000]\n",
    "np.array(a)"
   ]
  },
  {
   "cell_type": "code",
   "execution_count": null,
   "metadata": {
    "collapsed": true
   },
   "outputs": [],
   "source": []
  }
 ],
 "metadata": {
  "kernelspec": {
   "display_name": "Python 3",
   "language": "python",
   "name": "python3"
  },
  "language_info": {
   "codemirror_mode": {
    "name": "ipython",
    "version": 3
   },
   "file_extension": ".py",
   "mimetype": "text/x-python",
   "name": "python",
   "nbconvert_exporter": "python",
   "pygments_lexer": "ipython3",
   "version": "3.6.3"
  }
 },
 "nbformat": 4,
 "nbformat_minor": 2
}
